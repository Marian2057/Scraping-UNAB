{
 "cells": [
  {
   "attachments": {
    "image.png": {
     "image/png": "[encoded data removed]"
    }
   },
   "cell_type": "markdown",
   "id": "73113724",
   "metadata": {},
   "source": [
    "![image.png](attachment:image.png)\n",
    "<center>Trabajo práctico Integrador</center>\n",
    "<center>Seminario “Procesamiento de Lenguaje Natural”</center> \n",
    "<center>Diplomatura en Ciencias Sociales Computacionales.</center> \n",
    "<center>Universidad Nacional Guillermo Brown - UnaB.</center>\n"
   ]
  },
  {
   "cell_type": "markdown",
   "id": "eb04b500",
   "metadata": {},
   "source": [
    "**Objetivo.**\n",
    "El presente trabajo tiene como finalidad la integración y aplicación de las técnicas estudiadas durante el seminario con el fin de aprender en un caso de uso real extendido la aplicabilidad de las herramientas. \n"
   ]
  },
  {
   "cell_type": "markdown",
   "id": "a34eb553",
   "metadata": {},
   "source": [
    "**Consignas.**\n",
    "\n",
    "## 1.\tScraping de Noticias. \n",
    "Hacer un scraping de 5 noticias seleccionadas de algunos de los siguientes portales.\n",
    "<br>\n",
    "a.\tInfobae.<br>\n",
    "b.\tLa Política Online.<br>\n",
    "c.\tLetra P<br>\n",
    "d.\tADN Ciudad. <br>\n",
    "e.\tPortal de noticias a elección (sugerir).<br>\n",
    "<br>\n",
    "El sitio seleccionado es Infobae"
   ]
  },
  {
   "cell_type": "code",
   "execution_count": 1,
   "id": "56cf03a4",
   "metadata": {},
   "outputs": [],
   "source": [
    "#Una vez que tenemos todas las librerías, vamos a empezar importarlas\n",
    "import requests\n",
    "from bs4 import BeautifulSoup as bs4\n",
    "import pandas as pd\n",
    "from datetime import datetime,date\n",
    "import spacy\n",
    "from nltk.stem import WordNetLemmatizer\n",
    "# Cargar el modelo de spaCy en español\n",
    "nlp = spacy.load(\"es_core_news_sm\")\n"
   ]
  },
  {
   "cell_type": "markdown",
   "id": "cb545b7b",
   "metadata": {},
   "source": [
    "#### **01. Extracción básica de texto en la Web.**"
   ]
  },
  {
   "cell_type": "markdown",
   "id": "2c8f3d75",
   "metadata": {},
   "source": [
    "Cuando trabajamos con *scraping*, tenemos que considerar la interpretación del *código* HTML. Este tipo de lenguaje es en el que se encuentran enmarcadas las plataformas y su correcto entendimiento nos va a permitir ir a buscar el texto o información que estamos buscando.\n",
    "\n",
    "En este sentido, lo primero que debemos hacer es traernos el *HTML* entero que queremos inspeccionar."
   ]
  },
  {
   "cell_type": "code",
   "execution_count": 2,
   "id": "cf210ef3",
   "metadata": {},
   "outputs": [],
   "source": [
    "# extraemos la respuesta del parametro que le pasamos, en este caso la url de infobae\n",
    "response = requests.get (url='https://www.infobae.com/politica')"
   ]
  },
  {
   "cell_type": "code",
   "execution_count": 3,
   "id": "16c88ad6",
   "metadata": {},
   "outputs": [],
   "source": [
    "# transformamos la respuesta que nosotros le pasamos\n",
    "texto_html = bs4(response.text,'lxml')"
   ]
  },
  {
   "cell_type": "code",
   "execution_count": 4,
   "id": "f5ba0097",
   "metadata": {},
   "outputs": [],
   "source": [
    "# Buscar los elementos <div> con la clase 'deck' que contienen los párrafos de las noticias\n",
    "parrafos = texto_html.find_all('div', class_='deck')"
   ]
  },
  {
   "cell_type": "code",
   "execution_count": 5,
   "id": "7f87eb5d",
   "metadata": {},
   "outputs": [],
   "source": [
    "# Obtener el texto de los párrafos y almacenarlos en una lista\n",
    "lista_parrafos = [parrafo.get_text() for parrafo in parrafos]"
   ]
  },
  {
   "cell_type": "code",
   "execution_count": 6,
   "id": "2d237557",
   "metadata": {},
   "outputs": [],
   "source": [
    "# genero la fecha \n",
    "fecha = date.today().strftime('%d-%m-%Y')"
   ]
  },
  {
   "cell_type": "code",
   "execution_count": 7,
   "id": "7bdbf5e2",
   "metadata": {},
   "outputs": [
    {
     "data": {
      "text/html": [
       "<div>\n",
       "<style scoped>\n",
       "    .dataframe tbody tr th:only-of-type {\n",
       "        vertical-align: middle;\n",
       "    }\n",
       "\n",
       "    .dataframe tbody tr th {\n",
       "        vertical-align: top;\n",
       "    }\n",
       "\n",
       "    .dataframe thead th {\n",
       "        text-align: right;\n",
       "    }\n",
       "</style>\n",
       "<table border=\"1\" class=\"dataframe\">\n",
       "  <thead>\n",
       "    <tr style=\"text-align: right;\">\n",
       "      <th></th>\n",
       "      <th>parrafo</th>\n",
       "      <th>titulo</th>\n",
       "    </tr>\n",
       "  </thead>\n",
       "  <tbody>\n",
       "    <tr>\n",
       "      <th>0</th>\n",
       "      <td>Todos los detalles de la campaña electoral en ...</td>\n",
       "      <td>Elecciones 2023, en vivo: “Veo posible llegar ...</td>\n",
       "    </tr>\n",
       "    <tr>\n",
       "      <th>1</th>\n",
       "      <td>El funcionario judicial murió a los 54 años, p...</td>\n",
       "      <td>Dirigentes políticos y judiciales despidieron ...</td>\n",
       "    </tr>\n",
       "    <tr>\n",
       "      <th>2</th>\n",
       "      <td>Aunque confiados en el impulso de las PASO, en...</td>\n",
       "      <td>Las claves de la estrategia de Milei: entre la...</td>\n",
       "    </tr>\n",
       "    <tr>\n",
       "      <th>3</th>\n",
       "      <td>Cuando el ex presidente vuelva al país, la can...</td>\n",
       "      <td>Patricia Bullrich espera a Mauricio Macri para...</td>\n",
       "    </tr>\n",
       "    <tr>\n",
       "      <th>4</th>\n",
       "      <td>Son casi 4 millones de personas que no votaron...</td>\n",
       "      <td>Los votos del ausentismo que Sergio Massa inte...</td>\n",
       "    </tr>\n",
       "  </tbody>\n",
       "</table>\n",
       "</div>"
      ],
      "text/plain": [
       "                                             parrafo  \\\n",
       "0  Todos los detalles de la campaña electoral en ...   \n",
       "1  El funcionario judicial murió a los 54 años, p...   \n",
       "2  Aunque confiados en el impulso de las PASO, en...   \n",
       "3  Cuando el ex presidente vuelva al país, la can...   \n",
       "4  Son casi 4 millones de personas que no votaron...   \n",
       "\n",
       "                                              titulo  \n",
       "0  Elecciones 2023, en vivo: “Veo posible llegar ...  \n",
       "1  Dirigentes políticos y judiciales despidieron ...  \n",
       "2  Las claves de la estrategia de Milei: entre la...  \n",
       "3  Patricia Bullrich espera a Mauricio Macri para...  \n",
       "4  Los votos del ausentismo que Sergio Massa inte...  "
      ]
     },
     "execution_count": 7,
     "metadata": {},
     "output_type": "execute_result"
    }
   ],
   "source": [
    "# Obtener todos los elementos h2\n",
    "titulo_tags = texto_html.find_all('h2')  \n",
    "lista_titulos = [titulo.text for titulo in titulo_tags]\n",
    "\n",
    "# Me Aseguro de que las listas tengan la misma longitud\n",
    "min_length = min(len(lista_parrafos), len(lista_titulos))\n",
    "lista_parrafos = lista_parrafos[:min_length]\n",
    "lista_titulos = lista_titulos[:min_length]\n",
    "\n",
    "df_parrafos = pd.DataFrame({'parrafo': lista_parrafos, 'titulo': lista_titulos})\n",
    "\n",
    "# Filtrar las primeras 5 noticias\n",
    "df_parrafos.head(5)\n"
   ]
  },
  {
   "cell_type": "code",
   "execution_count": 8,
   "id": "e762fc6a",
   "metadata": {},
   "outputs": [],
   "source": [
    "# Calcular la cantidad de palabras de los párrafos y agregar una columna al DataFrame\n",
    "df_parrafos['cant._palabras'] = df_parrafos['parrafo'].apply(lambda x: len(x.split()))"
   ]
  },
  {
   "cell_type": "code",
   "execution_count": 9,
   "id": "f6e6516e",
   "metadata": {},
   "outputs": [
    {
     "data": {
      "text/html": [
       "<div>\n",
       "<style scoped>\n",
       "    .dataframe tbody tr th:only-of-type {\n",
       "        vertical-align: middle;\n",
       "    }\n",
       "\n",
       "    .dataframe tbody tr th {\n",
       "        vertical-align: top;\n",
       "    }\n",
       "\n",
       "    .dataframe thead th {\n",
       "        text-align: right;\n",
       "    }\n",
       "</style>\n",
       "<table border=\"1\" class=\"dataframe\">\n",
       "  <thead>\n",
       "    <tr style=\"text-align: right;\">\n",
       "      <th></th>\n",
       "      <th>parrafo</th>\n",
       "      <th>titulo</th>\n",
       "      <th>cant._palabras</th>\n",
       "    </tr>\n",
       "  </thead>\n",
       "  <tbody>\n",
       "    <tr>\n",
       "      <th>0</th>\n",
       "      <td>Todos los detalles de la campaña electoral en ...</td>\n",
       "      <td>Elecciones 2023, en vivo: “Veo posible llegar ...</td>\n",
       "      <td>23</td>\n",
       "    </tr>\n",
       "    <tr>\n",
       "      <th>1</th>\n",
       "      <td>El funcionario judicial murió a los 54 años, p...</td>\n",
       "      <td>Dirigentes políticos y judiciales despidieron ...</td>\n",
       "      <td>32</td>\n",
       "    </tr>\n",
       "    <tr>\n",
       "      <th>2</th>\n",
       "      <td>Aunque confiados en el impulso de las PASO, en...</td>\n",
       "      <td>Las claves de la estrategia de Milei: entre la...</td>\n",
       "      <td>46</td>\n",
       "    </tr>\n",
       "    <tr>\n",
       "      <th>3</th>\n",
       "      <td>Cuando el ex presidente vuelva al país, la can...</td>\n",
       "      <td>Patricia Bullrich espera a Mauricio Macri para...</td>\n",
       "      <td>39</td>\n",
       "    </tr>\n",
       "    <tr>\n",
       "      <th>4</th>\n",
       "      <td>Son casi 4 millones de personas que no votaron...</td>\n",
       "      <td>Los votos del ausentismo que Sergio Massa inte...</td>\n",
       "      <td>31</td>\n",
       "    </tr>\n",
       "  </tbody>\n",
       "</table>\n",
       "</div>"
      ],
      "text/plain": [
       "                                             parrafo  \\\n",
       "0  Todos los detalles de la campaña electoral en ...   \n",
       "1  El funcionario judicial murió a los 54 años, p...   \n",
       "2  Aunque confiados en el impulso de las PASO, en...   \n",
       "3  Cuando el ex presidente vuelva al país, la can...   \n",
       "4  Son casi 4 millones de personas que no votaron...   \n",
       "\n",
       "                                              titulo  cant._palabras  \n",
       "0  Elecciones 2023, en vivo: “Veo posible llegar ...              23  \n",
       "1  Dirigentes políticos y judiciales despidieron ...              32  \n",
       "2  Las claves de la estrategia de Milei: entre la...              46  \n",
       "3  Patricia Bullrich espera a Mauricio Macri para...              39  \n",
       "4  Los votos del ausentismo que Sergio Massa inte...              31  "
      ]
     },
     "execution_count": 9,
     "metadata": {},
     "output_type": "execute_result"
    }
   ],
   "source": [
    "df_parrafos.head(5)"
   ]
  },
  {
   "cell_type": "markdown",
   "id": "bf2a58bb",
   "metadata": {},
   "source": [
    "## 2.\tEscritura de archivo tipo Texto.\n",
    "Las noticias descargadas deben entregarse en un archivo tipo texto. El código debe entregarse en una notebook con el código detallado y comentado."
   ]
  },
  {
   "cell_type": "code",
   "execution_count": 14,
   "id": "99d727b1",
   "metadata": {},
   "outputs": [
    {
     "name": "stdout",
     "output_type": "stream",
     "text": [
      "Los datos de las primeras 5 noticias se han guardado en el archivo 'noticias_politicas.txt'\n"
     ]
    }
   ],
   "source": [
    "# Guardar los datos en un archivo de texto\n",
    "archivo_salida = 'noticias_politicas.txt'\n",
    "with open(archivo_salida, 'w', encoding='utf-8') as archivo:\n",
    "    for index, row in df_parrafos.head(5).iterrows():\n",
    "        archivo.write(f\"Título: {row['titulo']}\\n\")\n",
    "        archivo.write(f\"Párrafo: {row['parrafo']}\\n\")\n",
    "        archivo.write(\"-\" * 50 + \"\\n\")\n",
    "\n",
    "print(f\"Los datos de las primeras 5 noticias se han guardado en el archivo '{archivo_salida}'\")"
   ]
  },
  {
   "cell_type": "markdown",
   "id": "93b80a7f",
   "metadata": {},
   "source": [
    "## 3.\tCorpus entero.\n",
    "Elaborar un data frame en donde cada fila corresponde a un párrafo de cada noticia que tenga la siguiente estructura.\n"
   ]
  },
  {
   "cell_type": "code",
   "execution_count": 12,
   "id": "4c9f1c1b",
   "metadata": {},
   "outputs": [],
   "source": [
    "# Definir la función para procesar un párrafo\n",
    "def procesar_parrafo(parrafo):\n",
    "    doc = nlp(parrafo)\n",
    "    palabras_lematizadas = [token.lemma_ for token in doc]\n",
    "    entidades = [ent.text for ent in doc.ents]\n",
    "    return palabras_lematizadas, entidades\n",
    "\n",
    "# Crear un DataFrame con los datos\n",
    "df_parrafos = pd.DataFrame({'parrafo': lista_parrafos, 'titulo': lista_titulos})\n",
    "df_parrafos['cant_palabras'] = df_parrafos['parrafo'].apply(lambda x: len(x.split()))\n",
    "df_parrafos['entidad'] = df_parrafos['parrafo'].apply(lambda x: [token for token in nlp(x).ents])\n",
    "df_parrafos['terminos_lematizados'], _ = zip(*df_parrafos['parrafo'].apply(procesar_parrafo))\n"
   ]
  },
  {
   "cell_type": "code",
   "execution_count": 11,
   "id": "26f5c613",
   "metadata": {},
   "outputs": [
    {
     "data": {
      "text/html": [
       "<div>\n",
       "<style scoped>\n",
       "    .dataframe tbody tr th:only-of-type {\n",
       "        vertical-align: middle;\n",
       "    }\n",
       "\n",
       "    .dataframe tbody tr th {\n",
       "        vertical-align: top;\n",
       "    }\n",
       "\n",
       "    .dataframe thead th {\n",
       "        text-align: right;\n",
       "    }\n",
       "</style>\n",
       "<table border=\"1\" class=\"dataframe\">\n",
       "  <thead>\n",
       "    <tr style=\"text-align: right;\">\n",
       "      <th></th>\n",
       "      <th>parrafo</th>\n",
       "      <th>titulo</th>\n",
       "      <th>cant_palabras</th>\n",
       "      <th>entidad</th>\n",
       "      <th>terminos_lematizados</th>\n",
       "    </tr>\n",
       "  </thead>\n",
       "  <tbody>\n",
       "    <tr>\n",
       "      <th>0</th>\n",
       "      <td>Todos los detalles de la campaña electoral en ...</td>\n",
       "      <td>Elecciones 2023, en vivo: “Veo posible llegar ...</td>\n",
       "      <td>23</td>\n",
       "      <td>[(Argentina), (Javier, Milei), (Primarias, Abi...</td>\n",
       "      <td>[todo, el, detalle, de, el, campaña, electoral...</td>\n",
       "    </tr>\n",
       "    <tr>\n",
       "      <th>1</th>\n",
       "      <td>El funcionario judicial murió a los 54 años, p...</td>\n",
       "      <td>Dirigentes políticos y judiciales despidieron ...</td>\n",
       "      <td>32</td>\n",
       "      <td>[(Las, redes, sociales)]</td>\n",
       "      <td>[el, funcionario, judicial, morir, a, el, 54, ...</td>\n",
       "    </tr>\n",
       "    <tr>\n",
       "      <th>2</th>\n",
       "      <td>Aunque confiados en el impulso de las PASO, en...</td>\n",
       "      <td>Las claves de la estrategia de Milei: entre la...</td>\n",
       "      <td>46</td>\n",
       "      <td>[(LLA), (Casa, Rosada), (Admiten)]</td>\n",
       "      <td>[aunque, confiar, en, el, impulso, de, el, PAS...</td>\n",
       "    </tr>\n",
       "    <tr>\n",
       "      <th>3</th>\n",
       "      <td>Cuando el ex presidente vuelva al país, la can...</td>\n",
       "      <td>Patricia Bullrich espera a Mauricio Macri para...</td>\n",
       "      <td>39</td>\n",
       "      <td>[(Juntos, por, el, Cambio), (Qué), (Marruecos)...</td>\n",
       "      <td>[cuando, el, ex, presidente, volver, al, país,...</td>\n",
       "    </tr>\n",
       "    <tr>\n",
       "      <th>4</th>\n",
       "      <td>Son casi 4 millones de personas que no votaron...</td>\n",
       "      <td>Los votos del ausentismo que Sergio Massa inte...</td>\n",
       "      <td>31</td>\n",
       "      <td>[(provincia, de, Buenos, Aires)]</td>\n",
       "      <td>[ser, casi, 4, millón, de, persona, que, no, v...</td>\n",
       "    </tr>\n",
       "  </tbody>\n",
       "</table>\n",
       "</div>"
      ],
      "text/plain": [
       "                                             parrafo  \\\n",
       "0  Todos los detalles de la campaña electoral en ...   \n",
       "1  El funcionario judicial murió a los 54 años, p...   \n",
       "2  Aunque confiados en el impulso de las PASO, en...   \n",
       "3  Cuando el ex presidente vuelva al país, la can...   \n",
       "4  Son casi 4 millones de personas que no votaron...   \n",
       "\n",
       "                                              titulo  cant_palabras  \\\n",
       "0  Elecciones 2023, en vivo: “Veo posible llegar ...             23   \n",
       "1  Dirigentes políticos y judiciales despidieron ...             32   \n",
       "2  Las claves de la estrategia de Milei: entre la...             46   \n",
       "3  Patricia Bullrich espera a Mauricio Macri para...             39   \n",
       "4  Los votos del ausentismo que Sergio Massa inte...             31   \n",
       "\n",
       "                                             entidad  \\\n",
       "0  [(Argentina), (Javier, Milei), (Primarias, Abi...   \n",
       "1                           [(Las, redes, sociales)]   \n",
       "2                 [(LLA), (Casa, Rosada), (Admiten)]   \n",
       "3  [(Juntos, por, el, Cambio), (Qué), (Marruecos)...   \n",
       "4                   [(provincia, de, Buenos, Aires)]   \n",
       "\n",
       "                                terminos_lematizados  \n",
       "0  [todo, el, detalle, de, el, campaña, electoral...  \n",
       "1  [el, funcionario, judicial, morir, a, el, 54, ...  \n",
       "2  [aunque, confiar, en, el, impulso, de, el, PAS...  \n",
       "3  [cuando, el, ex, presidente, volver, al, país,...  \n",
       "4  [ser, casi, 4, millón, de, persona, que, no, v...  "
      ]
     },
     "execution_count": 11,
     "metadata": {},
     "output_type": "execute_result"
    }
   ],
   "source": [
    "# Mostrar la tabla\n",
    "df_parrafos.head(5)"
   ]
  },
  {
   "cell_type": "code",
   "execution_count": null,
   "id": "6931afe2",
   "metadata": {},
   "outputs": [],
   "source": []
  }
 ],
 "metadata": {
  "kernelspec": {
   "display_name": "Python 3 (ipykernel)",
   "language": "python",
   "name": "python3"
  },
  "language_info": {
   "codemirror_mode": {
    "name": "ipython",
    "version": 3
   },
   "file_extension": ".py",
   "mimetype": "text/x-python",
   "name": "python",
   "nbconvert_exporter": "python",
   "pygments_lexer": "ipython3",
   "version": "3.11.4"
  }
 },
 "nbformat": 4,
 "nbformat_minor": 5
}
